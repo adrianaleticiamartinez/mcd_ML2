{
  "nbformat": 4,
  "nbformat_minor": 0,
  "metadata": {
    "colab": {
      "provenance": [],
      "authorship_tag": "ABX9TyNInv+HWY1TXdhx0RAoeibU",
      "include_colab_link": true
    },
    "kernelspec": {
      "name": "python3",
      "display_name": "Python 3"
    },
    "language_info": {
      "name": "python"
    }
  },
  "cells": [
    {
      "cell_type": "markdown",
      "metadata": {
        "id": "view-in-github",
        "colab_type": "text"
      },
      "source": [
        "<a href=\"https://colab.research.google.com/github/adrianaleticiamartinez/mcd_ML2/blob/main/API.ipynb\" target=\"_parent\"><img src=\"https://colab.research.google.com/assets/colab-badge.svg\" alt=\"Open In Colab\"/></a>"
      ]
    },
    {
      "cell_type": "code",
      "execution_count": 5,
      "metadata": {
        "colab": {
          "base_uri": "https://localhost:8080/"
        },
        "id": "WDUl2Fj_IviU",
        "outputId": "7a08c016-23de-44f5-e771-0b459ff46bb2"
      },
      "outputs": [
        {
          "output_type": "stream",
          "name": "stdout",
          "text": [
            " * Serving Flask app '__main__'\n",
            " * Debug mode: on\n"
          ]
        },
        {
          "output_type": "stream",
          "name": "stderr",
          "text": [
            "INFO:werkzeug:\u001b[31m\u001b[1mWARNING: This is a development server. Do not use it in a production deployment. Use a production WSGI server instead.\u001b[0m\n",
            " * Running on http://127.0.0.1:5000\n",
            "INFO:werkzeug:\u001b[33mPress CTRL+C to quit\u001b[0m\n",
            "INFO:werkzeug: * Restarting with stat\n"
          ]
        }
      ],
      "source": [
        "from flask import Flask, request, jsonify\n",
        "import joblib\n",
        "\n",
        "\n",
        "app = Flask(__name__)\n",
        "#Descargar archivo de https://github.com/adrianaleticiamartinez/mcd_ML2/raw/main/xgboost_model.pkl\n",
        "# Cargar el modelo al inicio de la aplicación\n",
        "model = joblib.load('xgboost_model.pkl')\n",
        "\n",
        "@app.route('/predict', methods=['POST'])\n",
        "def predict():\n",
        "    # Obtener los datos de entrada de la solicitud POST\n",
        "    data = request.json\n",
        "\n",
        "    # Variables de entrada para la predicción\n",
        "    cve_mun = data['cve_mun']\n",
        "    intermediario_financiero = data['intermediario_financiero']\n",
        "    sexo = data['sexo']\n",
        "    edad_rango = data['edad_rango']\n",
        "    ingresos_rango = data['ingresos_rango']\n",
        "    vivienda_valor = data['vivienda_valor']\n",
        "    acciones = data['acciones']\n",
        "\n",
        "    # Realizar la predicción utilizando el modelo cargado\n",
        "    prediction = model.predict([[cve_mun, intermediario_financiero, sexo, edad_rango, ingresos_rango, vivienda_valor, acciones]])\n",
        "\n",
        "    # Devolver los resultados de la predicción como respuesta\n",
        "    return jsonify({'prediction': prediction.tolist()})\n",
        "\n",
        "if __name__ == '__main__':\n",
        "    app.run(debug=True)"
      ]
    },
    {
      "cell_type": "code",
      "source": [],
      "metadata": {
        "id": "7iBVdWmLJTsh"
      },
      "execution_count": null,
      "outputs": []
    }
  ]
}