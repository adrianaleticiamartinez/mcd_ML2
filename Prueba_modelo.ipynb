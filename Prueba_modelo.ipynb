{
  "nbformat": 4,
  "nbformat_minor": 0,
  "metadata": {
    "colab": {
      "provenance": [],
      "authorship_tag": "ABX9TyPjU4wyT1sxAjwP22H03mr+",
      "include_colab_link": true
    },
    "kernelspec": {
      "name": "python3",
      "display_name": "Python 3"
    },
    "language_info": {
      "name": "python"
    }
  },
  "cells": [
    {
      "cell_type": "markdown",
      "metadata": {
        "id": "view-in-github",
        "colab_type": "text"
      },
      "source": [
        "<a href=\"https://colab.research.google.com/github/adrianaleticiamartinez/mcd_ML2/blob/main/Prueba_modelo.ipynb\" target=\"_parent\"><img src=\"https://colab.research.google.com/assets/colab-badge.svg\" alt=\"Open In Colab\"/></a>"
      ]
    },
    {
      "cell_type": "code",
      "execution_count": 11,
      "metadata": {
        "colab": {
          "base_uri": "https://localhost:8080/"
        },
        "id": "a-iBsQ-3c_tk",
        "outputId": "851699a3-edee-4eb4-d937-c5eea2655d2f"
      },
      "outputs": [
        {
          "output_type": "stream",
          "name": "stdout",
          "text": [
            "XGBClassifier(base_score=None, booster=None, callbacks=None,\n",
            "              colsample_bylevel=None, colsample_bynode=None,\n",
            "              colsample_bytree=None, device=None, early_stopping_rounds=None,\n",
            "              enable_categorical=False, eval_metric='logloss',\n",
            "              feature_types=None, gamma=None, grow_policy=None,\n",
            "              importance_type=None, interaction_constraints=None,\n",
            "              learning_rate=None, max_bin=None, max_cat_threshold=None,\n",
            "              max_cat_to_onehot=None, max_delta_step=None, max_depth=None,\n",
            "              max_leaves=None, min_child_weight=None, missing=nan,\n",
            "              monotone_constraints=None, multi_strategy=None, n_estimators=None,\n",
            "              n_jobs=None, num_parallel_tree=None, random_state=None, ...)\n"
          ]
        }
      ],
      "source": [
        "import pickle\n",
        "\n",
        "# Obtener el nombre del archivo cargado\n",
        "model_filename = 'xgboost_model.pkl'\n",
        "\n",
        "# Cargar el modelo\n",
        "\n",
        "model=pickle.load(open(model_filename, \"rb\"))\n",
        "\n",
        "print(model)\n",
        "\n"
      ]
    },
    {
      "cell_type": "code",
      "source": [
        "import pandas as pd\n",
        "from sklearn.preprocessing import LabelEncoder, StandardScaler\n",
        "\n",
        "\n",
        "# Ejemplo de datos de entrada para un caso puntual\n",
        "data_puntual = {\n",
        "    'cve_mun': 3.0,\n",
        "    'intermediario_financiero': 40012,\n",
        "    'sexo': 2.0,\n",
        "    'edad_rango': 2.0,\n",
        "    'ingresos_rango': 6.0,\n",
        "    'vivienda_valor': 4.0,\n",
        "    'acciones': 1\n",
        "}\n",
        "\n",
        "# Convertimos el diccionario a un DataFrame para simular un caso real\n",
        "input_data = pd.DataFrame([data_puntual])\n",
        "\n",
        "# Codificar variables categóricas con LabelEncoder\n",
        "categorical_vars = input_data.select_dtypes(include=['object']).columns\n",
        "label_encoders = {}\n",
        "\n",
        "\n",
        "# Realizamos la codificación y escalado como en los datos de entrenamiento\n",
        "for col, encoder in label_encoders.items():\n",
        "    if col in input_data.columns:\n",
        "        input_data[col] = encoder.transform(input_data[col])\n",
        "\n",
        "# Hacemos la predicción utilizando el modelo\n",
        "predicted_class = model.predict(input_data)\n",
        "print(f\"La clase predicha para el caso puntual es: {predicted_class[0]}\")\n",
        "\n",
        "# Si el modelo predice probabilidades, también podemos mostrarlas\n",
        "predicted_prob = model.predict_proba(input_data)\n",
        "print(f\"Probabilidad de pertenecer a cada clase: {predicted_prob[0]}\")"
      ],
      "metadata": {
        "colab": {
          "base_uri": "https://localhost:8080/"
        },
        "id": "TLNlHLVYjR7d",
        "outputId": "e34a354c-a14a-43ea-80cd-02ff511ecf88"
      },
      "execution_count": 12,
      "outputs": [
        {
          "output_type": "stream",
          "name": "stdout",
          "text": [
            "La clase predicha para el caso puntual es: 1\n",
            "Probabilidad de pertenecer a cada clase: [3.3378601e-06 9.9999666e-01]\n"
          ]
        }
      ]
    }
  ]
}